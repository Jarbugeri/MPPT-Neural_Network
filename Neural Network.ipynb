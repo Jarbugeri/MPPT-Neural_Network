{
 "cells": [
  {
   "cell_type": "code",
   "execution_count": 1,
   "metadata": {},
   "outputs": [],
   "source": [
    "import tensorflow as tf\n",
    "import pandas as pd\n",
    "import numpy\n",
    "import matplotlib.pyplot as plt\n"
   ]
  },
  {
   "cell_type": "code",
   "execution_count": 2,
   "metadata": {},
   "outputs": [
    {
     "name": "stdout",
     "output_type": "stream",
     "text": [
      "b'Hello, TensorFlow!'\n"
     ]
    }
   ],
   "source": [
    "hello = tf.constant(\"Hello, TensorFlow!\")\n",
    "sess = tf.Session()\n",
    "print(sess.run(hello))"
   ]
  },
  {
   "cell_type": "code",
   "execution_count": 3,
   "metadata": {},
   "outputs": [
    {
     "data": {
      "text/html": [
       "<div>\n",
       "<style scoped>\n",
       "    .dataframe tbody tr th:only-of-type {\n",
       "        vertical-align: middle;\n",
       "    }\n",
       "\n",
       "    .dataframe tbody tr th {\n",
       "        vertical-align: top;\n",
       "    }\n",
       "\n",
       "    .dataframe thead th {\n",
       "        text-align: right;\n",
       "    }\n",
       "</style>\n",
       "<table border=\"1\" class=\"dataframe\">\n",
       "  <thead>\n",
       "    <tr style=\"text-align: right;\">\n",
       "      <th></th>\n",
       "      <th>Input_current</th>\n",
       "      <th>Output_voltage</th>\n",
       "      <th>Input_voltage</th>\n",
       "      <th>Duty_Cycle</th>\n",
       "      <th>Power</th>\n",
       "      <th>Irradiance</th>\n",
       "      <th>Temperature</th>\n",
       "    </tr>\n",
       "  </thead>\n",
       "  <tbody>\n",
       "    <tr>\n",
       "      <th>0</th>\n",
       "      <td>6.818701</td>\n",
       "      <td>58.373037</td>\n",
       "      <td>29.782506</td>\n",
       "      <td>0.485</td>\n",
       "      <td>212.117783</td>\n",
       "      <td>1000</td>\n",
       "      <td>25</td>\n",
       "    </tr>\n",
       "    <tr>\n",
       "      <th>1</th>\n",
       "      <td>7.313437</td>\n",
       "      <td>53.815293</td>\n",
       "      <td>23.990136</td>\n",
       "      <td>0.557</td>\n",
       "      <td>180.751131</td>\n",
       "      <td>1000</td>\n",
       "      <td>60</td>\n",
       "    </tr>\n",
       "    <tr>\n",
       "      <th>2</th>\n",
       "      <td>6.056522</td>\n",
       "      <td>49.442379</td>\n",
       "      <td>24.298210</td>\n",
       "      <td>0.505</td>\n",
       "      <td>152.417456</td>\n",
       "      <td>836</td>\n",
       "      <td>60</td>\n",
       "    </tr>\n",
       "    <tr>\n",
       "      <th>3</th>\n",
       "      <td>5.735578</td>\n",
       "      <td>50.894729</td>\n",
       "      <td>26.911060</td>\n",
       "      <td>0.475</td>\n",
       "      <td>161.503052</td>\n",
       "      <td>836</td>\n",
       "      <td>48</td>\n",
       "    </tr>\n",
       "    <tr>\n",
       "      <th>4</th>\n",
       "      <td>5.376322</td>\n",
       "      <td>48.436413</td>\n",
       "      <td>26.198545</td>\n",
       "      <td>0.457</td>\n",
       "      <td>146.294526</td>\n",
       "      <td>755</td>\n",
       "      <td>48</td>\n",
       "    </tr>\n",
       "  </tbody>\n",
       "</table>\n",
       "</div>"
      ],
      "text/plain": [
       "   Input_current  Output_voltage  Input_voltage  Duty_Cycle       Power  \\\n",
       "0       6.818701       58.373037      29.782506       0.485  212.117783   \n",
       "1       7.313437       53.815293      23.990136       0.557  180.751131   \n",
       "2       6.056522       49.442379      24.298210       0.505  152.417456   \n",
       "3       5.735578       50.894729      26.911060       0.475  161.503052   \n",
       "4       5.376322       48.436413      26.198545       0.457  146.294526   \n",
       "\n",
       "   Irradiance  Temperature  \n",
       "0        1000           25  \n",
       "1        1000           60  \n",
       "2         836           60  \n",
       "3         836           48  \n",
       "4         755           48  "
      ]
     },
     "execution_count": 3,
     "metadata": {},
     "output_type": "execute_result"
    }
   ],
   "source": [
    "df = pd.read_csv('data/data_train.csv')\n",
    "df.head()"
   ]
  },
  {
   "cell_type": "markdown",
   "metadata": {},
   "source": [
    "Separamos as 4 entradas: Irradiance, Temperature, Tensão de Entrada e Corrente de entrada\n",
    "Separamos a saida: DutyCycle"
   ]
  },
  {
   "cell_type": "code",
   "execution_count": 4,
   "metadata": {
    "scrolled": true
   },
   "outputs": [
    {
     "name": "stdout",
     "output_type": "stream",
     "text": [
      "   Irradiance  Temperature  Input_current  Input_voltage\n",
      "0        1000           25       6.818701      29.782506\n",
      "1        1000           60       7.313437      23.990136\n",
      "2         836           60       6.056522      24.298210\n",
      "3         836           48       5.735578      26.911060\n",
      "4         755           48       5.376322      26.198545\n",
      "   Duty_Cycle\n",
      "0       0.485\n",
      "1       0.557\n",
      "2       0.505\n",
      "3       0.475\n",
      "4       0.457\n",
      "(2093, 4)\n"
     ]
    }
   ],
   "source": [
    "df_x = df.loc[:,['Irradiance','Temperature','Input_current','Input_voltage']] #Seleciona por nome\n",
    "df_y = df.loc[:,['Duty_Cycle']] #Seleciona por nome\n",
    "print(df_x[:5])\n",
    "print(df_y[:5])\n",
    "print(df_x.shape)"
   ]
  },
  {
   "cell_type": "code",
   "execution_count": 5,
   "metadata": {},
   "outputs": [
    {
     "name": "stdout",
     "output_type": "stream",
     "text": [
      "(2093, 4) (2093, 1)\n"
     ]
    },
    {
     "name": "stderr",
     "output_type": "stream",
     "text": [
      "C:\\Users\\Jose\\AppData\\Local\\conda\\conda\\envs\\tensorflow\\lib\\site-packages\\ipykernel_launcher.py:1: FutureWarning: Method .as_matrix will be removed in a future version. Use .values instead.\n",
      "  \"\"\"Entry point for launching an IPython kernel.\n",
      "C:\\Users\\Jose\\AppData\\Local\\conda\\conda\\envs\\tensorflow\\lib\\site-packages\\ipykernel_launcher.py:2: FutureWarning: Method .as_matrix will be removed in a future version. Use .values instead.\n",
      "  \n"
     ]
    }
   ],
   "source": [
    "x=df_x.as_matrix()\n",
    "y=df_y.as_matrix()\n",
    "print(x.shape,y.shape)"
   ]
  },
  {
   "cell_type": "code",
   "execution_count": 7,
   "metadata": {},
   "outputs": [
    {
     "name": "stdout",
     "output_type": "stream",
     "text": [
      "Extracting /tmp/data/train-images-idx3-ubyte.gz\n",
      "Extracting /tmp/data/train-labels-idx1-ubyte.gz\n",
      "Extracting /tmp/data/t10k-images-idx3-ubyte.gz\n",
      "Extracting /tmp/data/t10k-labels-idx1-ubyte.gz\n",
      "INFO:tensorflow:Using default config.\n",
      "WARNING:tensorflow:Using temporary folder as model directory: C:\\Users\\Jose\\AppData\\Local\\Temp\\tmptc1j0x7t\n",
      "INFO:tensorflow:Using config: {'_log_step_count_steps': 100, '_evaluation_master': '', '_cluster_spec': <tensorflow.python.training.server_lib.ClusterSpec object at 0x000002811742D0B8>, '_global_id_in_cluster': 0, '_save_summary_steps': 100, '_model_dir': 'C:\\\\Users\\\\Jose\\\\AppData\\\\Local\\\\Temp\\\\tmptc1j0x7t', '_master': '', '_num_ps_replicas': 0, '_session_config': None, '_keep_checkpoint_every_n_hours': 10000, '_train_distribute': None, '_service': None, '_task_id': 0, '_tf_random_seed': None, '_is_chief': True, '_save_checkpoints_steps': None, '_keep_checkpoint_max': 5, '_save_checkpoints_secs': 600, '_num_worker_replicas': 1, '_task_type': 'worker'}\n",
      "INFO:tensorflow:Calling model_fn.\n",
      "INFO:tensorflow:Done calling model_fn.\n",
      "INFO:tensorflow:Create CheckpointSaverHook.\n",
      "INFO:tensorflow:Graph was finalized.\n",
      "INFO:tensorflow:Running local_init_op.\n",
      "INFO:tensorflow:Done running local_init_op.\n",
      "INFO:tensorflow:Saving checkpoints for 1 into C:\\Users\\Jose\\AppData\\Local\\Temp\\tmptc1j0x7t\\model.ckpt.\n",
      "INFO:tensorflow:loss = 2.3494864, step = 1\n",
      "INFO:tensorflow:global_step/sec: 197.542\n",
      "INFO:tensorflow:loss = 0.36480838, step = 101 (0.507 sec)\n",
      "INFO:tensorflow:global_step/sec: 205.192\n",
      "INFO:tensorflow:loss = 0.37897992, step = 201 (0.488 sec)\n",
      "INFO:tensorflow:global_step/sec: 180.378\n",
      "INFO:tensorflow:loss = 0.39605415, step = 301 (0.554 sec)\n",
      "INFO:tensorflow:global_step/sec: 161.176\n",
      "INFO:tensorflow:loss = 0.28857228, step = 401 (0.620 sec)\n",
      "INFO:tensorflow:global_step/sec: 175.622\n",
      "INFO:tensorflow:loss = 0.37529838, step = 501 (0.569 sec)\n",
      "INFO:tensorflow:global_step/sec: 199.459\n",
      "INFO:tensorflow:loss = 0.12875389, step = 601 (0.502 sec)\n",
      "INFO:tensorflow:global_step/sec: 185.397\n",
      "INFO:tensorflow:loss = 0.17094806, step = 701 (0.541 sec)\n",
      "INFO:tensorflow:global_step/sec: 174.244\n",
      "INFO:tensorflow:loss = 0.41677207, step = 801 (0.574 sec)\n",
      "INFO:tensorflow:global_step/sec: 178.924\n",
      "INFO:tensorflow:loss = 0.3442566, step = 901 (0.557 sec)\n",
      "INFO:tensorflow:Saving checkpoints for 1000 into C:\\Users\\Jose\\AppData\\Local\\Temp\\tmptc1j0x7t\\model.ckpt.\n",
      "INFO:tensorflow:Loss for final step: 0.3054806.\n",
      "INFO:tensorflow:Calling model_fn.\n",
      "INFO:tensorflow:Done calling model_fn.\n",
      "INFO:tensorflow:Starting evaluation at 2018-06-23-21:42:09\n",
      "INFO:tensorflow:Graph was finalized.\n",
      "INFO:tensorflow:Restoring parameters from C:\\Users\\Jose\\AppData\\Local\\Temp\\tmptc1j0x7t\\model.ckpt-1000\n",
      "INFO:tensorflow:Running local_init_op.\n",
      "INFO:tensorflow:Done running local_init_op.\n",
      "INFO:tensorflow:Finished evaluation at 2018-06-23-21:42:10\n",
      "INFO:tensorflow:Saving dict for global step 1000: accuracy = 0.9194, global_step = 1000, loss = 0.2850402\n",
      "Testing Accuracy: 0.9194\n"
     ]
    }
   ],
   "source": [
    "\"\"\" Neural Network.\n",
    "A 2-Hidden Layers Fully Connected Neural Network (a.k.a Multilayer Perceptron)\n",
    "implementation with TensorFlow. This example is using the MNIST database\n",
    "of handwritten digits (http://yann.lecun.com/exdb/mnist/).\n",
    "This example is using TensorFlow layers, see 'neural_network_raw' example for\n",
    "a raw implementation with variables.\n",
    "Links:\n",
    "    [MNIST Dataset](http://yann.lecun.com/exdb/mnist/).\n",
    "Author: Aymeric Damien\n",
    "Project: https://github.com/aymericdamien/TensorFlow-Examples/\n",
    "\"\"\"\n",
    "\n",
    "from __future__ import print_function\n",
    "\n",
    "# Import MNIST data\n",
    "from tensorflow.examples.tutorials.mnist import input_data\n",
    "mnist = input_data.read_data_sets(\"/tmp/data/\", one_hot=False)\n",
    "\n",
    "import tensorflow as tf\n",
    "\n",
    "# Parameters\n",
    "learning_rate = 0.1\n",
    "num_steps = 1000\n",
    "batch_size = 128\n",
    "display_step = 100\n",
    "\n",
    "# Network Parameters\n",
    "n_hidden_1 = 256 # 1st layer number of neurons\n",
    "n_hidden_2 = 256 # 2nd layer number of neurons\n",
    "num_input = 784 # MNIST data input (img shape: 28*28)\n",
    "num_classes = 10 # MNIST total classes (0-9 digits)\n",
    "\n",
    "\n",
    "# Define the neural network\n",
    "def neural_net(x_dict):\n",
    "    # TF Estimator input is a dict, in case of multiple inputs\n",
    "    x = x_dict['images']\n",
    "    # Hidden fully connected layer with 256 neurons\n",
    "    layer_1 = tf.layers.dense(x, n_hidden_1)\n",
    "    # Hidden fully connected layer with 256 neurons\n",
    "    layer_2 = tf.layers.dense(layer_1, n_hidden_2)\n",
    "    # Output fully connected layer with a neuron for each class\n",
    "    out_layer = tf.layers.dense(layer_2, num_classes)\n",
    "    return out_layer\n",
    "\n",
    "\n",
    "# Define the model function (following TF Estimator Template)\n",
    "def model_fn(features, labels, mode):\n",
    "    # Build the neural network\n",
    "    logits = neural_net(features)\n",
    "\n",
    "    # Predictions\n",
    "    pred_classes = tf.argmax(logits, axis=1)\n",
    "    pred_probas = tf.nn.softmax(logits)\n",
    "\n",
    "    # If prediction mode, early return\n",
    "    if mode == tf.estimator.ModeKeys.PREDICT:\n",
    "        return tf.estimator.EstimatorSpec(mode, predictions=pred_classes)\n",
    "\n",
    "        # Define loss and optimizer\n",
    "    loss_op = tf.reduce_mean(tf.nn.sparse_softmax_cross_entropy_with_logits(\n",
    "        logits=logits, labels=tf.cast(labels, dtype=tf.int32)))\n",
    "    optimizer = tf.train.GradientDescentOptimizer(learning_rate=learning_rate)\n",
    "    train_op = optimizer.minimize(loss_op,\n",
    "                                  global_step=tf.train.get_global_step())\n",
    "\n",
    "    # Evaluate the accuracy of the model\n",
    "    acc_op = tf.metrics.accuracy(labels=labels, predictions=pred_classes)\n",
    "\n",
    "    # TF Estimators requires to return a EstimatorSpec, that specify\n",
    "    # the different ops for training, evaluating, ...\n",
    "    estim_specs = tf.estimator.EstimatorSpec(\n",
    "        mode=mode,\n",
    "        predictions=pred_classes,\n",
    "        loss=loss_op,\n",
    "        train_op=train_op,\n",
    "        eval_metric_ops={'accuracy': acc_op})\n",
    "\n",
    "    return estim_specs\n",
    "\n",
    "# Build the Estimator\n",
    "model = tf.estimator.Estimator(model_fn)\n",
    "\n",
    "# Define the input function for training\n",
    "input_fn = tf.estimator.inputs.numpy_input_fn(\n",
    "    x={'images': mnist.train.images}, y=mnist.train.labels,\n",
    "    batch_size=batch_size, num_epochs=None, shuffle=True)\n",
    "# Train the Model\n",
    "model.train(input_fn, steps=num_steps)\n",
    "\n",
    "# Evaluate the Model\n",
    "# Define the input function for evaluating\n",
    "input_fn = tf.estimator.inputs.numpy_input_fn(\n",
    "    x={'images': mnist.test.images}, y=mnist.test.labels,\n",
    "    batch_size=batch_size, shuffle=False)\n",
    "# Use the Estimator 'evaluate' method\n",
    "e = model.evaluate(input_fn)\n",
    "\n",
    "print(\"Testing Accuracy:\", e['accuracy'])"
   ]
  },
  {
   "cell_type": "code",
   "execution_count": null,
   "metadata": {},
   "outputs": [],
   "source": []
  }
 ],
 "metadata": {
  "kernelspec": {
   "display_name": "Python 3",
   "language": "python",
   "name": "python3"
  },
  "language_info": {
   "codemirror_mode": {
    "name": "ipython",
    "version": 3
   },
   "file_extension": ".py",
   "mimetype": "text/x-python",
   "name": "python",
   "nbconvert_exporter": "python",
   "pygments_lexer": "ipython3",
   "version": "3.5.5"
  }
 },
 "nbformat": 4,
 "nbformat_minor": 2
}
