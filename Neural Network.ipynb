{
 "cells": [
  {
   "cell_type": "code",
   "execution_count": 411,
   "metadata": {},
   "outputs": [],
   "source": [
    "import tensorflow as tf\n",
    "import pandas as pd\n",
    "import numpy as np\n",
    "import matplotlib.pyplot as plt\n"
   ]
  },
  {
   "cell_type": "code",
   "execution_count": 412,
   "metadata": {},
   "outputs": [
    {
     "data": {
      "text/html": [
       "<div>\n",
       "<style scoped>\n",
       "    .dataframe tbody tr th:only-of-type {\n",
       "        vertical-align: middle;\n",
       "    }\n",
       "\n",
       "    .dataframe tbody tr th {\n",
       "        vertical-align: top;\n",
       "    }\n",
       "\n",
       "    .dataframe thead th {\n",
       "        text-align: right;\n",
       "    }\n",
       "</style>\n",
       "<table border=\"1\" class=\"dataframe\">\n",
       "  <thead>\n",
       "    <tr style=\"text-align: right;\">\n",
       "      <th></th>\n",
       "      <th>Input_current</th>\n",
       "      <th>Output_voltage</th>\n",
       "      <th>Input_voltage</th>\n",
       "      <th>Duty_Cycle</th>\n",
       "      <th>Power</th>\n",
       "      <th>Irradiance</th>\n",
       "      <th>Temperature</th>\n",
       "    </tr>\n",
       "  </thead>\n",
       "  <tbody>\n",
       "    <tr>\n",
       "      <th>0</th>\n",
       "      <td>6.818701</td>\n",
       "      <td>58.373037</td>\n",
       "      <td>29.782506</td>\n",
       "      <td>0.485</td>\n",
       "      <td>212.117783</td>\n",
       "      <td>1000</td>\n",
       "      <td>25</td>\n",
       "    </tr>\n",
       "    <tr>\n",
       "      <th>1</th>\n",
       "      <td>7.313437</td>\n",
       "      <td>53.815293</td>\n",
       "      <td>23.990136</td>\n",
       "      <td>0.557</td>\n",
       "      <td>180.751131</td>\n",
       "      <td>1000</td>\n",
       "      <td>60</td>\n",
       "    </tr>\n",
       "    <tr>\n",
       "      <th>2</th>\n",
       "      <td>6.056522</td>\n",
       "      <td>49.442379</td>\n",
       "      <td>24.298210</td>\n",
       "      <td>0.505</td>\n",
       "      <td>152.417456</td>\n",
       "      <td>836</td>\n",
       "      <td>60</td>\n",
       "    </tr>\n",
       "    <tr>\n",
       "      <th>3</th>\n",
       "      <td>5.735578</td>\n",
       "      <td>50.894729</td>\n",
       "      <td>26.911060</td>\n",
       "      <td>0.475</td>\n",
       "      <td>161.503052</td>\n",
       "      <td>836</td>\n",
       "      <td>48</td>\n",
       "    </tr>\n",
       "    <tr>\n",
       "      <th>4</th>\n",
       "      <td>5.376322</td>\n",
       "      <td>48.436413</td>\n",
       "      <td>26.198545</td>\n",
       "      <td>0.457</td>\n",
       "      <td>146.294526</td>\n",
       "      <td>755</td>\n",
       "      <td>48</td>\n",
       "    </tr>\n",
       "  </tbody>\n",
       "</table>\n",
       "</div>"
      ],
      "text/plain": [
       "   Input_current  Output_voltage  Input_voltage  Duty_Cycle       Power  \\\n",
       "0       6.818701       58.373037      29.782506       0.485  212.117783   \n",
       "1       7.313437       53.815293      23.990136       0.557  180.751131   \n",
       "2       6.056522       49.442379      24.298210       0.505  152.417456   \n",
       "3       5.735578       50.894729      26.911060       0.475  161.503052   \n",
       "4       5.376322       48.436413      26.198545       0.457  146.294526   \n",
       "\n",
       "   Irradiance  Temperature  \n",
       "0        1000           25  \n",
       "1        1000           60  \n",
       "2         836           60  \n",
       "3         836           48  \n",
       "4         755           48  "
      ]
     },
     "execution_count": 412,
     "metadata": {},
     "output_type": "execute_result"
    }
   ],
   "source": [
    "df = pd.read_csv('data_train.csv')\n",
    "df.head()"
   ]
  },
  {
   "cell_type": "markdown",
   "metadata": {},
   "source": [
    "Separamos as 4 entradas: Irradiance, Temperature, Tensão de Entrada e Corrente de entrada\n",
    "Separamos a saida: DutyCycle"
   ]
  },
  {
   "cell_type": "code",
   "execution_count": 413,
   "metadata": {
    "scrolled": true
   },
   "outputs": [
    {
     "name": "stdout",
     "output_type": "stream",
     "text": [
      "   Irradiance  Temperature  Input_current  Input_voltage\n",
      "0        1000           25       6.818701      29.782506\n",
      "1        1000           60       7.313437      23.990136\n",
      "2         836           60       6.056522      24.298210\n",
      "3         836           48       5.735578      26.911060\n",
      "4         755           48       5.376322      26.198545\n",
      "   Duty_Cycle\n",
      "0       0.485\n",
      "1       0.557\n",
      "2       0.505\n",
      "3       0.475\n",
      "4       0.457\n",
      "(2093, 4)\n"
     ]
    }
   ],
   "source": [
    "df_x = df.loc[:,['Irradiance','Temperature','Input_current','Input_voltage']] #Seleciona por nome\n",
    "df_y = df.loc[:,['Duty_Cycle']] #Seleciona por nome\n",
    "print(df_x[:5])\n",
    "print(df_y[:5])\n",
    "print(df_x.shape)"
   ]
  },
  {
   "cell_type": "code",
   "execution_count": 414,
   "metadata": {},
   "outputs": [
    {
     "name": "stdout",
     "output_type": "stream",
     "text": [
      "(2093, 4) (2093, 1)\n"
     ]
    }
   ],
   "source": [
    "x=np.asarray(df_x)\n",
    "y=np.asarray(df_y)\n",
    "print(x.shape,y.shape)"
   ]
  },
  {
   "cell_type": "code",
   "execution_count": 415,
   "metadata": {},
   "outputs": [],
   "source": [
    "from sklearn.model_selection import train_test_split\n",
    "from sklearn.preprocessing import StandardScaler"
   ]
  },
  {
   "cell_type": "code",
   "execution_count": 416,
   "metadata": {},
   "outputs": [
    {
     "data": {
      "text/plain": [
       "StandardScaler(copy=True, with_mean=True, with_std=True)"
      ]
     },
     "execution_count": 416,
     "metadata": {},
     "output_type": "execute_result"
    }
   ],
   "source": [
    "X_train, X_test, y_train, y_test = train_test_split(x, y,test_size=0.5,random_state=1)\n",
    "scaler = StandardScaler()\n",
    "scaler.fit(X_train)"
   ]
  },
  {
   "cell_type": "code",
   "execution_count": 417,
   "metadata": {},
   "outputs": [
    {
     "name": "stdout",
     "output_type": "stream",
     "text": [
      "(1046, 1)\n"
     ]
    }
   ],
   "source": [
    "# Now apply the transformations to the data:\n",
    "X_train = scaler.transform(X_train)\n",
    "X_test = scaler.transform(X_test)\n",
    "print(y_train.shape)"
   ]
  },
  {
   "cell_type": "code",
   "execution_count": 418,
   "metadata": {},
   "outputs": [],
   "source": [
    "from sklearn.neural_network import MLPRegressor\n",
    "from sklearn.pipeline import make_pipeline "
   ]
  },
  {
   "cell_type": "code",
   "execution_count": 433,
   "metadata": {},
   "outputs": [
    {
     "name": "stderr",
     "output_type": "stream",
     "text": [
      "C:\\ProgramData\\Anaconda3\\lib\\site-packages\\sklearn\\neural_network\\multilayer_perceptron.py:1306: DataConversionWarning: A column-vector y was passed when a 1d array was expected. Please change the shape of y to (n_samples, ), for example using ravel().\n",
      "  y = column_or_1d(y, warn=True)\n"
     ]
    },
    {
     "name": "stdout",
     "output_type": "stream",
     "text": [
      "0.9966347231960813\n",
      "5\n"
     ]
    }
   ],
   "source": [
    "mlp = MLPRegressor(activation='tanh', solver='lbfgs', hidden_layer_sizes=(4,4,4))\n",
    "mlp.fit(X_train,y_train)\n",
    "print(mlp.score(X_test, y_test))\n",
    "\n",
    "print(mlp.n_layers_)\n"
   ]
  },
  {
   "cell_type": "code",
   "execution_count": 522,
   "metadata": {},
   "outputs": [
    {
     "name": "stdout",
     "output_type": "stream",
     "text": [
      "[[-0.51665088 -0.08781792 -0.16005081 -0.47546352]\n",
      " [ 0.37559379 -0.54978876 -0.28319891 -0.17988477]\n",
      " [ 0.27825279  0.36229634 -0.38523717 -0.24710948]\n",
      " [ 0.5764351  -0.01782344 -0.37612448 -0.13645509]]\n"
     ]
    },
    {
     "data": {
      "text/plain": [
       "numpy.ndarray"
      ]
     },
     "execution_count": 522,
     "metadata": {},
     "output_type": "execute_result"
    }
   ],
   "source": [
    "coef_0=np.asarray(mlp.coefs_[0])\n",
    "np.savetxt(\"foo.csv\", coef_0.reshape(1,16), delimiter=\",\")\n",
    "print(coef_0)\n",
    "df = pd.DataFrame({'coefs':coef_0[0,0]},index=[0])\n",
    "df.to_csv('file_name.csv')\n",
    "type(coef_0)"
   ]
  },
  {
   "cell_type": "code",
   "execution_count": 517,
   "metadata": {},
   "outputs": [
    {
     "data": {
      "text/plain": [
       "0.3774348489839684"
      ]
     },
     "execution_count": 517,
     "metadata": {},
     "output_type": "execute_result"
    }
   ],
   "source": [
    "y_hat = mlp.predict(X_test)\n",
    "y_hat[0]"
   ]
  },
  {
   "cell_type": "code",
   "execution_count": 422,
   "metadata": {},
   "outputs": [
    {
     "data": {
      "text/plain": [
       "array([0.375])"
      ]
     },
     "execution_count": 422,
     "metadata": {},
     "output_type": "execute_result"
    }
   ],
   "source": [
    "y_test[0]"
   ]
  },
  {
   "cell_type": "code",
   "execution_count": 423,
   "metadata": {},
   "outputs": [
    {
     "data": {
      "text/plain": [
       "0.02111335787845592"
      ]
     },
     "execution_count": 423,
     "metadata": {},
     "output_type": "execute_result"
    }
   ],
   "source": [
    "np.mean((y_hat-y_test)**2)"
   ]
  },
  {
   "cell_type": "code",
   "execution_count": 424,
   "metadata": {},
   "outputs": [
    {
     "data": {
      "text/html": [
       "<div>\n",
       "<style scoped>\n",
       "    .dataframe tbody tr th:only-of-type {\n",
       "        vertical-align: middle;\n",
       "    }\n",
       "\n",
       "    .dataframe tbody tr th {\n",
       "        vertical-align: top;\n",
       "    }\n",
       "\n",
       "    .dataframe thead th {\n",
       "        text-align: right;\n",
       "    }\n",
       "</style>\n",
       "<table border=\"1\" class=\"dataframe\">\n",
       "  <thead>\n",
       "    <tr style=\"text-align: right;\">\n",
       "      <th></th>\n",
       "      <th>Input_current</th>\n",
       "      <th>Output_voltage</th>\n",
       "      <th>Input_voltage</th>\n",
       "      <th>Duty_Cycle</th>\n",
       "      <th>Power</th>\n",
       "      <th>Irradiance</th>\n",
       "      <th>Temperature</th>\n",
       "    </tr>\n",
       "  </thead>\n",
       "  <tbody>\n",
       "    <tr>\n",
       "      <th>0</th>\n",
       "      <td>6.818671</td>\n",
       "      <td>58.373244</td>\n",
       "      <td>29.782580</td>\n",
       "      <td>0.485</td>\n",
       "      <td>212.118655</td>\n",
       "      <td>1000.0</td>\n",
       "      <td>25</td>\n",
       "    </tr>\n",
       "    <tr>\n",
       "      <th>1</th>\n",
       "      <td>7.206004</td>\n",
       "      <td>57.995148</td>\n",
       "      <td>28.079099</td>\n",
       "      <td>0.513</td>\n",
       "      <td>210.170608</td>\n",
       "      <td>1000.0</td>\n",
       "      <td>27</td>\n",
       "    </tr>\n",
       "    <tr>\n",
       "      <th>2</th>\n",
       "      <td>7.651242</td>\n",
       "      <td>59.317953</td>\n",
       "      <td>27.550531</td>\n",
       "      <td>0.537</td>\n",
       "      <td>220.197268</td>\n",
       "      <td>1048.0</td>\n",
       "      <td>27</td>\n",
       "    </tr>\n",
       "    <tr>\n",
       "      <th>3</th>\n",
       "      <td>7.030870</td>\n",
       "      <td>60.620215</td>\n",
       "      <td>31.017551</td>\n",
       "      <td>0.483</td>\n",
       "      <td>228.780529</td>\n",
       "      <td>1048.0</td>\n",
       "      <td>17</td>\n",
       "    </tr>\n",
       "    <tr>\n",
       "      <th>4</th>\n",
       "      <td>4.054196</td>\n",
       "      <td>45.744741</td>\n",
       "      <td>30.788208</td>\n",
       "      <td>0.325</td>\n",
       "      <td>130.447698</td>\n",
       "      <td>588.0</td>\n",
       "      <td>17</td>\n",
       "    </tr>\n",
       "  </tbody>\n",
       "</table>\n",
       "</div>"
      ],
      "text/plain": [
       "   Input_current  Output_voltage  Input_voltage  Duty_Cycle       Power  \\\n",
       "0       6.818671       58.373244      29.782580       0.485  212.118655   \n",
       "1       7.206004       57.995148      28.079099       0.513  210.170608   \n",
       "2       7.651242       59.317953      27.550531       0.537  220.197268   \n",
       "3       7.030870       60.620215      31.017551       0.483  228.780529   \n",
       "4       4.054196       45.744741      30.788208       0.325  130.447698   \n",
       "\n",
       "   Irradiance  Temperature  \n",
       "0      1000.0           25  \n",
       "1      1000.0           27  \n",
       "2      1048.0           27  \n",
       "3      1048.0           17  \n",
       "4       588.0           17  "
      ]
     },
     "execution_count": 424,
     "metadata": {},
     "output_type": "execute_result"
    }
   ],
   "source": [
    "valid = pd.read_csv('data.csv')\n",
    "valid.head()"
   ]
  },
  {
   "cell_type": "code",
   "execution_count": 425,
   "metadata": {},
   "outputs": [
    {
     "name": "stdout",
     "output_type": "stream",
     "text": [
      "   Irradiance  Temperature  Input_current  Input_voltage\n",
      "0      1000.0           25       6.818671      29.782580\n",
      "1      1000.0           27       7.206004      28.079099\n",
      "2      1048.0           27       7.651242      27.550531\n",
      "3      1048.0           17       7.030870      31.017551\n",
      "4       588.0           17       4.054196      30.788208\n",
      "      Duty_Cycle\n",
      "0          0.485\n",
      "1          0.513\n",
      "2          0.537\n",
      "3          0.483\n",
      "4          0.325\n",
      "5          0.361\n",
      "6          0.529\n",
      "7          0.501\n",
      "8          0.117\n",
      "9          0.179\n",
      "10         0.417\n",
      "11         0.403\n",
      "12         0.503\n",
      "13         0.465\n",
      "14         0.507\n",
      "15         0.431\n",
      "16         0.385\n",
      "17         0.377\n",
      "18         0.411\n",
      "19         0.487\n",
      "20         0.505\n",
      "21         0.475\n",
      "22         0.487\n",
      "23         0.517\n",
      "24         0.389\n",
      "25         0.315\n",
      "26         0.419\n",
      "27         0.437\n",
      "28         0.517\n",
      "29         0.469\n",
      "...          ...\n",
      "1969       0.000\n",
      "1970       0.000\n",
      "1971       0.000\n",
      "1972       0.000\n",
      "1973       0.000\n",
      "1974       0.000\n",
      "1975       0.000\n",
      "1976       0.000\n",
      "1977       0.000\n",
      "1978       0.000\n",
      "1979       0.000\n",
      "1980       0.000\n",
      "1981       0.000\n",
      "1982       0.000\n",
      "1983       0.000\n",
      "1984       0.000\n",
      "1985       0.000\n",
      "1986       0.000\n",
      "1987       0.000\n",
      "1988       0.000\n",
      "1989       0.000\n",
      "1990       0.000\n",
      "1991       0.000\n",
      "1992       0.000\n",
      "1993       0.000\n",
      "1994       0.000\n",
      "1995       0.000\n",
      "1996       0.000\n",
      "1997       0.000\n",
      "1998       0.000\n",
      "\n",
      "[1999 rows x 1 columns]\n",
      "(2000, 4)\n"
     ]
    }
   ],
   "source": [
    "valid_x = valid.loc[:,['Irradiance','Temperature','Input_current','Input_voltage']] #Seleciona por nome\n",
    "valid_y = valid.loc[:,['Duty_Cycle']] #Seleciona por nome\n",
    "print(valid_x[:5])\n",
    "print(valid_y[:-1])\n",
    "print(valid_x.shape)"
   ]
  },
  {
   "cell_type": "code",
   "execution_count": 426,
   "metadata": {},
   "outputs": [
    {
     "name": "stdout",
     "output_type": "stream",
     "text": [
      "(2000, 4) (2000, 1)\n"
     ]
    }
   ],
   "source": [
    "x_val=np.asarray(valid_x)\n",
    "y_val=np.asarray(valid_y)\n",
    "print(x_val.shape,y_val.shape)"
   ]
  },
  {
   "cell_type": "code",
   "execution_count": 427,
   "metadata": {},
   "outputs": [
    {
     "data": {
      "text/plain": [
       "-2.2756861389438323"
      ]
     },
     "execution_count": 427,
     "metadata": {},
     "output_type": "execute_result"
    }
   ],
   "source": [
    "X_val = scaler.transform(x_val)\n",
    "mlp.score(X_val,y_val)"
   ]
  },
  {
   "cell_type": "code",
   "execution_count": 428,
   "metadata": {},
   "outputs": [
    {
     "name": "stdout",
     "output_type": "stream",
     "text": [
      "[0.487382   0.51760236 0.54462681 ... 0.54519682 0.54519682 0.54519682]\n"
     ]
    }
   ],
   "source": [
    "Y_val=mlp.predict(X_val)\n",
    "print(Y_val)"
   ]
  },
  {
   "cell_type": "code",
   "execution_count": 429,
   "metadata": {},
   "outputs": [
    {
     "data": {
      "text/plain": [
       "array([[0.485],\n",
       "       [0.513],\n",
       "       [0.537],\n",
       "       ...,\n",
       "       [0.   ],\n",
       "       [0.   ],\n",
       "       [0.   ]])"
      ]
     },
     "execution_count": 429,
     "metadata": {},
     "output_type": "execute_result"
    }
   ],
   "source": [
    "y_val\n"
   ]
  },
  {
   "cell_type": "code",
   "execution_count": 430,
   "metadata": {},
   "outputs": [
    {
     "data": {
      "text/plain": [
       "0.1315794442522724"
      ]
     },
     "execution_count": 430,
     "metadata": {},
     "output_type": "execute_result"
    }
   ],
   "source": [
    "np.mean((Y_val-y_val)**2)"
   ]
  },
  {
   "cell_type": "code",
   "execution_count": 431,
   "metadata": {},
   "outputs": [
    {
     "name": "stdout",
     "output_type": "stream",
     "text": [
      "Accuracy testing : -2.276\n"
     ]
    }
   ],
   "source": [
    "print('Accuracy testing : {:.3f}'.format(mlp.score(X_val, y_val)))"
   ]
  },
  {
   "cell_type": "code",
   "execution_count": null,
   "metadata": {},
   "outputs": [],
   "source": []
  }
 ],
 "metadata": {
  "kernelspec": {
   "display_name": "Python 3",
   "language": "python",
   "name": "python3"
  },
  "language_info": {
   "codemirror_mode": {
    "name": "ipython",
    "version": 3
   },
   "file_extension": ".py",
   "mimetype": "text/x-python",
   "name": "python",
   "nbconvert_exporter": "python",
   "pygments_lexer": "ipython3",
   "version": "3.6.4"
  }
 },
 "nbformat": 4,
 "nbformat_minor": 2
}
