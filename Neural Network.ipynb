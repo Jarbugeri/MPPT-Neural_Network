{
 "cells": [
  {
   "cell_type": "code",
   "execution_count": 1,
   "metadata": {},
   "outputs": [],
   "source": [
    "import pandas as pd\n",
    "import numpy as np\n",
    "import matplotlib.pyplot as plt\n",
    "from sklearn.model_selection import train_test_split\n",
    "from sklearn.preprocessing import StandardScaler\n",
    "from sklearn.neural_network import MLPRegressor\n",
    "from sklearn.pipeline import make_pipeline "
   ]
  },
  {
   "cell_type": "code",
   "execution_count": 2,
   "metadata": {},
   "outputs": [
    {
     "data": {
      "text/html": [
       "<div>\n",
       "<style scoped>\n",
       "    .dataframe tbody tr th:only-of-type {\n",
       "        vertical-align: middle;\n",
       "    }\n",
       "\n",
       "    .dataframe tbody tr th {\n",
       "        vertical-align: top;\n",
       "    }\n",
       "\n",
       "    .dataframe thead th {\n",
       "        text-align: right;\n",
       "    }\n",
       "</style>\n",
       "<table border=\"1\" class=\"dataframe\">\n",
       "  <thead>\n",
       "    <tr style=\"text-align: right;\">\n",
       "      <th></th>\n",
       "      <th>Input_current</th>\n",
       "      <th>Output_voltage</th>\n",
       "      <th>Input_voltage</th>\n",
       "      <th>Duty_Cycle</th>\n",
       "      <th>Power</th>\n",
       "      <th>Irradiance</th>\n",
       "      <th>Temperature</th>\n",
       "    </tr>\n",
       "  </thead>\n",
       "  <tbody>\n",
       "    <tr>\n",
       "      <th>0</th>\n",
       "      <td>6.818701</td>\n",
       "      <td>58.373037</td>\n",
       "      <td>29.782506</td>\n",
       "      <td>0.485</td>\n",
       "      <td>212.117783</td>\n",
       "      <td>1000</td>\n",
       "      <td>25</td>\n",
       "    </tr>\n",
       "    <tr>\n",
       "      <th>1</th>\n",
       "      <td>7.313437</td>\n",
       "      <td>53.815293</td>\n",
       "      <td>23.990136</td>\n",
       "      <td>0.557</td>\n",
       "      <td>180.751131</td>\n",
       "      <td>1000</td>\n",
       "      <td>60</td>\n",
       "    </tr>\n",
       "    <tr>\n",
       "      <th>2</th>\n",
       "      <td>6.056522</td>\n",
       "      <td>49.442379</td>\n",
       "      <td>24.298210</td>\n",
       "      <td>0.505</td>\n",
       "      <td>152.417456</td>\n",
       "      <td>836</td>\n",
       "      <td>60</td>\n",
       "    </tr>\n",
       "    <tr>\n",
       "      <th>3</th>\n",
       "      <td>5.735578</td>\n",
       "      <td>50.894729</td>\n",
       "      <td>26.911060</td>\n",
       "      <td>0.475</td>\n",
       "      <td>161.503052</td>\n",
       "      <td>836</td>\n",
       "      <td>48</td>\n",
       "    </tr>\n",
       "    <tr>\n",
       "      <th>4</th>\n",
       "      <td>5.376322</td>\n",
       "      <td>48.436413</td>\n",
       "      <td>26.198545</td>\n",
       "      <td>0.457</td>\n",
       "      <td>146.294526</td>\n",
       "      <td>755</td>\n",
       "      <td>48</td>\n",
       "    </tr>\n",
       "  </tbody>\n",
       "</table>\n",
       "</div>"
      ],
      "text/plain": [
       "   Input_current  Output_voltage  Input_voltage  Duty_Cycle       Power  \\\n",
       "0       6.818701       58.373037      29.782506       0.485  212.117783   \n",
       "1       7.313437       53.815293      23.990136       0.557  180.751131   \n",
       "2       6.056522       49.442379      24.298210       0.505  152.417456   \n",
       "3       5.735578       50.894729      26.911060       0.475  161.503052   \n",
       "4       5.376322       48.436413      26.198545       0.457  146.294526   \n",
       "\n",
       "   Irradiance  Temperature  \n",
       "0        1000           25  \n",
       "1        1000           60  \n",
       "2         836           60  \n",
       "3         836           48  \n",
       "4         755           48  "
      ]
     },
     "execution_count": 2,
     "metadata": {},
     "output_type": "execute_result"
    }
   ],
   "source": [
    "df = pd.read_csv('data_train.csv')\n",
    "df.head()"
   ]
  },
  {
   "cell_type": "markdown",
   "metadata": {},
   "source": [
    "Separamos as 4 entradas: Irradiance, Temperature, Tensão de Entrada e Corrente de entrada\n",
    "Separamos a saida: DutyCycle"
   ]
  },
  {
   "cell_type": "code",
   "execution_count": 3,
   "metadata": {
    "scrolled": true
   },
   "outputs": [
    {
     "name": "stdout",
     "output_type": "stream",
     "text": [
      "   Irradiance  Temperature  Input_current  Input_voltage\n",
      "0        1000           25       6.818701      29.782506\n",
      "1        1000           60       7.313437      23.990136\n",
      "2         836           60       6.056522      24.298210\n",
      "3         836           48       5.735578      26.911060\n",
      "4         755           48       5.376322      26.198545\n",
      "   Duty_Cycle\n",
      "0       0.485\n",
      "1       0.557\n",
      "2       0.505\n",
      "3       0.475\n",
      "4       0.457\n",
      "(2093, 4)\n"
     ]
    }
   ],
   "source": [
    "df_x = df.loc[:,['Irradiance','Temperature','Input_current','Input_voltage']] #Seleciona por nome\n",
    "df_y = df.loc[:,['Duty_Cycle']] #Seleciona por nome\n",
    "print(df_x[:5])\n",
    "print(df_y[:5])\n",
    "print(df_x.shape)"
   ]
  },
  {
   "cell_type": "code",
   "execution_count": 55,
   "metadata": {},
   "outputs": [
    {
     "name": "stdout",
     "output_type": "stream",
     "text": [
      "(2093, 4) (2093, 1)\n"
     ]
    }
   ],
   "source": [
    "x=np.asarray(df_x)\n",
    "y=np.asarray(df_y)\n",
    "print(x.shape,y.shape)"
   ]
  },
  {
   "cell_type": "markdown",
   "metadata": {},
   "source": [
    "Após a obtenção dos dados do arquivo, é feito a separação do conjunto de dados entre treinamento e teste."
   ]
  },
  {
   "cell_type": "code",
   "execution_count": 56,
   "metadata": {},
   "outputs": [],
   "source": [
    "X_train, X_test, y_train, y_test = train_test_split(x, y,test_size=0.5,random_state=1)"
   ]
  },
  {
   "cell_type": "markdown",
   "metadata": {},
   "source": [
    "Em seguida, cria-se um modelo para a normalização dos dados para que se obtenha os dados com media zero e variancia unitaria. Assim  são normalizados os dados de entrada de treinamento e de teste."
   ]
  },
  {
   "cell_type": "code",
   "execution_count": 57,
   "metadata": {},
   "outputs": [
    {
     "data": {
      "text/plain": [
       "StandardScaler(copy=True, with_mean=True, with_std=True)"
      ]
     },
     "execution_count": 57,
     "metadata": {},
     "output_type": "execute_result"
    }
   ],
   "source": [
    "scaler = StandardScaler()\n",
    "scaler.fit(X_train)"
   ]
  },
  {
   "cell_type": "code",
   "execution_count": 58,
   "metadata": {},
   "outputs": [
    {
     "name": "stdout",
     "output_type": "stream",
     "text": [
      "(1046, 1)\n"
     ]
    }
   ],
   "source": [
    "# Now apply the transformations to the data:\n",
    "X_train = scaler.transform(X_train)\n",
    "X_test = scaler.transform(X_test)\n",
    "print(y_train.shape)"
   ]
  },
  {
   "cell_type": "markdown",
   "metadata": {},
   "source": [
    "Em seguida são levantados os parametros desejados da rede neural e feito o seu treinamento"
   ]
  },
  {
   "cell_type": "code",
   "execution_count": 74,
   "metadata": {},
   "outputs": [
    {
     "name": "stdout",
     "output_type": "stream",
     "text": [
      "0.9980261740720318\n",
      "4\n",
      "[array([[-0.25697724,  0.40848299,  0.12275243, -0.44942224],\n",
      "       [ 0.13079062, -0.35586602, -0.07893398,  0.01953215],\n",
      "       [ 0.5889776 , -0.90962146,  0.39079071, -0.58884994],\n",
      "       [ 0.63646316, -0.7396986 , -0.18910467,  0.19588317]]), array([[ 0.55415607,  0.15630137, -0.0551677 ,  0.40077632],\n",
      "       [-0.12060126,  0.18979044, -0.1763701 , -0.69339697],\n",
      "       [ 0.0080549 , -0.75949958,  0.17613204,  0.47601213],\n",
      "       [-0.16060713, -0.19937926,  0.35175575,  0.06054658]]), array([[-0.170398  ],\n",
      "       [-0.43869375],\n",
      "       [-0.33270128],\n",
      "       [ 0.2332325 ]])]\n"
     ]
    },
    {
     "name": "stderr",
     "output_type": "stream",
     "text": [
      "C:\\ProgramData\\Anaconda3\\lib\\site-packages\\sklearn\\neural_network\\multilayer_perceptron.py:1306: DataConversionWarning: A column-vector y was passed when a 1d array was expected. Please change the shape of y to (n_samples, ), for example using ravel().\n",
      "  y = column_or_1d(y, warn=True)\n"
     ]
    }
   ],
   "source": [
    "modelo = MLPRegressor(activation='tanh', solver='lbfgs', hidden_layer_sizes=(4,4))\n",
    "modelo.fit(X_train,y_train)\n",
    "print(modelo.score(X_test, y_test))\n",
    "\n",
    "print(modelo.n_layers_)\n",
    "print(modelo.coefs_)"
   ]
  },
  {
   "cell_type": "code",
   "execution_count": 75,
   "metadata": {},
   "outputs": [
    {
     "data": {
      "text/plain": [
       "'identity'"
      ]
     },
     "execution_count": 75,
     "metadata": {},
     "output_type": "execute_result"
    }
   ],
   "source": [
    "modelo.out_activation_"
   ]
  },
  {
   "cell_type": "markdown",
   "metadata": {},
   "source": [
    "Geração de arquivos .csv com os valores de pesos e bias do modelo criado para import no matlab"
   ]
  },
  {
   "cell_type": "code",
   "execution_count": 76,
   "metadata": {},
   "outputs": [
    {
     "data": {
      "text/plain": [
       "[array([[-0.25697724,  0.40848299,  0.12275243, -0.44942224],\n",
       "        [ 0.13079062, -0.35586602, -0.07893398,  0.01953215],\n",
       "        [ 0.5889776 , -0.90962146,  0.39079071, -0.58884994],\n",
       "        [ 0.63646316, -0.7396986 , -0.18910467,  0.19588317]]),\n",
       " array([[ 0.55415607,  0.15630137, -0.0551677 ,  0.40077632],\n",
       "        [-0.12060126,  0.18979044, -0.1763701 , -0.69339697],\n",
       "        [ 0.0080549 , -0.75949958,  0.17613204,  0.47601213],\n",
       "        [-0.16060713, -0.19937926,  0.35175575,  0.06054658]]),\n",
       " array([[-0.170398  ],\n",
       "        [-0.43869375],\n",
       "        [-0.33270128],\n",
       "        [ 0.2332325 ]])]"
      ]
     },
     "execution_count": 76,
     "metadata": {},
     "output_type": "execute_result"
    }
   ],
   "source": [
    "modelo.coefs_"
   ]
  },
  {
   "cell_type": "code",
   "execution_count": 77,
   "metadata": {},
   "outputs": [
    {
     "name": "stdout",
     "output_type": "stream",
     "text": [
      "[array([0.66272963, 0.2388292 , 0.73559444, 0.64678621]), array([ 0.32266736, -0.36475369,  0.1124503 ,  0.69468394]), array([0.14205554])]\n"
     ]
    }
   ],
   "source": [
    "coef_0=np.asarray(modelo.coefs_[0])\n",
    "coef_1=np.asarray(modelo.coefs_[1])\n",
    "coef_2=np.asarray(modelo.coefs_[2])\n",
    "coefs=np.concatenate((coef_0,coef_1),axis=1)\n",
    "coefs=np.concatenate((coefs,coef_2),axis=1)\n",
    "np.savetxt(\"pesos.csv\", coefs, delimiter=\",\")\n",
    "\n",
    "bias_0=np.asarray(modelo.intercepts_[0])\n",
    "bias_1=np.asarray(modelo.intercepts_[1])\n",
    "bias_2=np.asarray(modelo.intercepts_[2])\n",
    "bias=np.concatenate((bias_0,bias_1))\n",
    "bias=np.concatenate((bias,bias_2))\n",
    "np.savetxt(\"bias.csv\", bias, delimiter=\",\")\n",
    "print(modelo.intercepts_)"
   ]
  },
  {
   "cell_type": "code",
   "execution_count": 24,
   "metadata": {},
   "outputs": [
    {
     "data": {
      "text/plain": [
       "0.3713631994579457"
      ]
     },
     "execution_count": 24,
     "metadata": {},
     "output_type": "execute_result"
    }
   ],
   "source": [
    "y_hat = modelo.predict(X_test)\n",
    "y_hat[0]"
   ]
  },
  {
   "cell_type": "code",
   "execution_count": 25,
   "metadata": {},
   "outputs": [
    {
     "data": {
      "text/plain": [
       "array([0.375])"
      ]
     },
     "execution_count": 25,
     "metadata": {},
     "output_type": "execute_result"
    }
   ],
   "source": [
    "y_test[0]"
   ]
  },
  {
   "cell_type": "code",
   "execution_count": 26,
   "metadata": {},
   "outputs": [
    {
     "data": {
      "text/plain": [
       "0.021129441078772303"
      ]
     },
     "execution_count": 26,
     "metadata": {},
     "output_type": "execute_result"
    }
   ],
   "source": [
    "np.mean((y_hat-y_test)**2)"
   ]
  },
  {
   "cell_type": "code",
   "execution_count": 27,
   "metadata": {},
   "outputs": [
    {
     "data": {
      "text/html": [
       "<div>\n",
       "<style scoped>\n",
       "    .dataframe tbody tr th:only-of-type {\n",
       "        vertical-align: middle;\n",
       "    }\n",
       "\n",
       "    .dataframe tbody tr th {\n",
       "        vertical-align: top;\n",
       "    }\n",
       "\n",
       "    .dataframe thead th {\n",
       "        text-align: right;\n",
       "    }\n",
       "</style>\n",
       "<table border=\"1\" class=\"dataframe\">\n",
       "  <thead>\n",
       "    <tr style=\"text-align: right;\">\n",
       "      <th></th>\n",
       "      <th>Input_current</th>\n",
       "      <th>Output_voltage</th>\n",
       "      <th>Input_voltage</th>\n",
       "      <th>Duty_Cycle</th>\n",
       "      <th>Power</th>\n",
       "      <th>Irradiance</th>\n",
       "      <th>Temperature</th>\n",
       "    </tr>\n",
       "  </thead>\n",
       "  <tbody>\n",
       "    <tr>\n",
       "      <th>0</th>\n",
       "      <td>6.818671</td>\n",
       "      <td>58.373244</td>\n",
       "      <td>29.782580</td>\n",
       "      <td>0.485</td>\n",
       "      <td>212.118655</td>\n",
       "      <td>1000.0</td>\n",
       "      <td>25</td>\n",
       "    </tr>\n",
       "    <tr>\n",
       "      <th>1</th>\n",
       "      <td>7.206004</td>\n",
       "      <td>57.995148</td>\n",
       "      <td>28.079099</td>\n",
       "      <td>0.513</td>\n",
       "      <td>210.170608</td>\n",
       "      <td>1000.0</td>\n",
       "      <td>27</td>\n",
       "    </tr>\n",
       "    <tr>\n",
       "      <th>2</th>\n",
       "      <td>7.651242</td>\n",
       "      <td>59.317953</td>\n",
       "      <td>27.550531</td>\n",
       "      <td>0.537</td>\n",
       "      <td>220.197268</td>\n",
       "      <td>1048.0</td>\n",
       "      <td>27</td>\n",
       "    </tr>\n",
       "    <tr>\n",
       "      <th>3</th>\n",
       "      <td>7.030870</td>\n",
       "      <td>60.620215</td>\n",
       "      <td>31.017551</td>\n",
       "      <td>0.483</td>\n",
       "      <td>228.780529</td>\n",
       "      <td>1048.0</td>\n",
       "      <td>17</td>\n",
       "    </tr>\n",
       "    <tr>\n",
       "      <th>4</th>\n",
       "      <td>4.054196</td>\n",
       "      <td>45.744741</td>\n",
       "      <td>30.788208</td>\n",
       "      <td>0.325</td>\n",
       "      <td>130.447698</td>\n",
       "      <td>588.0</td>\n",
       "      <td>17</td>\n",
       "    </tr>\n",
       "  </tbody>\n",
       "</table>\n",
       "</div>"
      ],
      "text/plain": [
       "   Input_current  Output_voltage  Input_voltage  Duty_Cycle       Power  \\\n",
       "0       6.818671       58.373244      29.782580       0.485  212.118655   \n",
       "1       7.206004       57.995148      28.079099       0.513  210.170608   \n",
       "2       7.651242       59.317953      27.550531       0.537  220.197268   \n",
       "3       7.030870       60.620215      31.017551       0.483  228.780529   \n",
       "4       4.054196       45.744741      30.788208       0.325  130.447698   \n",
       "\n",
       "   Irradiance  Temperature  \n",
       "0      1000.0           25  \n",
       "1      1000.0           27  \n",
       "2      1048.0           27  \n",
       "3      1048.0           17  \n",
       "4       588.0           17  "
      ]
     },
     "execution_count": 27,
     "metadata": {},
     "output_type": "execute_result"
    }
   ],
   "source": [
    "valid = pd.read_csv('data.csv')\n",
    "valid.head()"
   ]
  },
  {
   "cell_type": "code",
   "execution_count": 28,
   "metadata": {},
   "outputs": [
    {
     "name": "stdout",
     "output_type": "stream",
     "text": [
      "   Irradiance  Temperature  Input_current  Input_voltage\n",
      "0      1000.0           25       6.818671      29.782580\n",
      "1      1000.0           27       7.206004      28.079099\n",
      "2      1048.0           27       7.651242      27.550531\n",
      "3      1048.0           17       7.030870      31.017551\n",
      "4       588.0           17       4.054196      30.788208\n",
      "      Duty_Cycle\n",
      "0          0.485\n",
      "1          0.513\n",
      "2          0.537\n",
      "3          0.483\n",
      "4          0.325\n",
      "5          0.361\n",
      "6          0.529\n",
      "7          0.501\n",
      "8          0.117\n",
      "9          0.179\n",
      "10         0.417\n",
      "11         0.403\n",
      "12         0.503\n",
      "13         0.465\n",
      "14         0.507\n",
      "15         0.431\n",
      "16         0.385\n",
      "17         0.377\n",
      "18         0.411\n",
      "19         0.487\n",
      "20         0.505\n",
      "21         0.475\n",
      "22         0.487\n",
      "23         0.517\n",
      "24         0.389\n",
      "25         0.315\n",
      "26         0.419\n",
      "27         0.437\n",
      "28         0.517\n",
      "29         0.469\n",
      "...          ...\n",
      "1969       0.000\n",
      "1970       0.000\n",
      "1971       0.000\n",
      "1972       0.000\n",
      "1973       0.000\n",
      "1974       0.000\n",
      "1975       0.000\n",
      "1976       0.000\n",
      "1977       0.000\n",
      "1978       0.000\n",
      "1979       0.000\n",
      "1980       0.000\n",
      "1981       0.000\n",
      "1982       0.000\n",
      "1983       0.000\n",
      "1984       0.000\n",
      "1985       0.000\n",
      "1986       0.000\n",
      "1987       0.000\n",
      "1988       0.000\n",
      "1989       0.000\n",
      "1990       0.000\n",
      "1991       0.000\n",
      "1992       0.000\n",
      "1993       0.000\n",
      "1994       0.000\n",
      "1995       0.000\n",
      "1996       0.000\n",
      "1997       0.000\n",
      "1998       0.000\n",
      "\n",
      "[1999 rows x 1 columns]\n",
      "(2000, 4)\n"
     ]
    }
   ],
   "source": [
    "valid_x = valid.loc[:,['Irradiance','Temperature','Input_current','Input_voltage']] #Seleciona por nome\n",
    "valid_y = valid.loc[:,['Duty_Cycle']] #Seleciona por nome\n",
    "print(valid_x[:5])\n",
    "print(valid_y[:-1])\n",
    "print(valid_x.shape)"
   ]
  },
  {
   "cell_type": "code",
   "execution_count": 29,
   "metadata": {},
   "outputs": [
    {
     "name": "stdout",
     "output_type": "stream",
     "text": [
      "(2000, 4) (2000, 1)\n"
     ]
    }
   ],
   "source": [
    "x_val=np.asarray(valid_x)\n",
    "y_val=np.asarray(valid_y)\n",
    "print(x_val.shape,y_val.shape)"
   ]
  },
  {
   "cell_type": "code",
   "execution_count": 32,
   "metadata": {},
   "outputs": [
    {
     "data": {
      "text/plain": [
       "-4.848383128539281"
      ]
     },
     "execution_count": 32,
     "metadata": {},
     "output_type": "execute_result"
    }
   ],
   "source": [
    "X_val = scaler.transform(x_val)\n",
    "modelo.score(X_val,y_val)"
   ]
  },
  {
   "cell_type": "code",
   "execution_count": 34,
   "metadata": {},
   "outputs": [
    {
     "name": "stdout",
     "output_type": "stream",
     "text": [
      "[0.48847427 0.51385134 0.53570434 ... 0.72852261 0.72852261 0.72852261]\n"
     ]
    }
   ],
   "source": [
    "Y_val=modelo.predict(X_val)\n",
    "print(Y_val)"
   ]
  },
  {
   "cell_type": "code",
   "execution_count": 429,
   "metadata": {},
   "outputs": [
    {
     "data": {
      "text/plain": [
       "array([[0.485],\n",
       "       [0.513],\n",
       "       [0.537],\n",
       "       ...,\n",
       "       [0.   ],\n",
       "       [0.   ],\n",
       "       [0.   ]])"
      ]
     },
     "execution_count": 429,
     "metadata": {},
     "output_type": "execute_result"
    }
   ],
   "source": [
    "y_val\n"
   ]
  },
  {
   "cell_type": "code",
   "execution_count": 430,
   "metadata": {},
   "outputs": [
    {
     "data": {
      "text/plain": [
       "0.1315794442522724"
      ]
     },
     "execution_count": 430,
     "metadata": {},
     "output_type": "execute_result"
    }
   ],
   "source": [
    "np.mean((Y_val-y_val)**2)"
   ]
  },
  {
   "cell_type": "code",
   "execution_count": 35,
   "metadata": {},
   "outputs": [
    {
     "name": "stdout",
     "output_type": "stream",
     "text": [
      "Accuracy testing : -4.848\n"
     ]
    }
   ],
   "source": [
    "print('Accuracy testing : {:.3f}'.format(modelo.score(X_val, y_val)))"
   ]
  },
  {
   "cell_type": "code",
   "execution_count": null,
   "metadata": {},
   "outputs": [],
   "source": []
  }
 ],
 "metadata": {
  "kernelspec": {
   "display_name": "Python 3",
   "language": "python",
   "name": "python3"
  },
  "language_info": {
   "codemirror_mode": {
    "name": "ipython",
    "version": 3
   },
   "file_extension": ".py",
   "mimetype": "text/x-python",
   "name": "python",
   "nbconvert_exporter": "python",
   "pygments_lexer": "ipython3",
   "version": "3.6.5"
  }
 },
 "nbformat": 4,
 "nbformat_minor": 2
}
